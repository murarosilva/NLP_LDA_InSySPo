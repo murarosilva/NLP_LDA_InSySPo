{
 "cells": [
  {
   "cell_type": "code",
   "execution_count": 6,
   "source": [
    "import os\r\n",
    "from RISparser import readris\r\n",
    "import gensim\r\n",
    "from gensim import models\r\n",
    "import pprint\r\n",
    "from nltk.stem import WordNetLemmatizer\r\n",
    "from pprint import pprint"
   ],
   "outputs": [],
   "metadata": {}
  },
  {
   "cell_type": "code",
   "execution_count": 2,
   "source": [
    "from gensim.parsing.preprocessing import STOPWORDS\r\n",
    "stopwords = set(STOPWORDS)\r\n",
    "my_stopwords = {'approach','paper','article','model','viewpoint','conclusion','discussion','method','introduction','section','framework','based','result'}\r\n",
    "my_stopwords = set.union(stopwords,my_stopwords)\r\n",
    "my_stopwords = frozenset(my_stopwords)"
   ],
   "outputs": [],
   "metadata": {}
  },
  {
   "cell_type": "code",
   "execution_count": 3,
   "source": [
    "data_folder = 'D:/Pesquisa/NLP_LDA_InSySPo/data/'\r\n",
    "files = os.listdir(data_folder)"
   ],
   "outputs": [],
   "metadata": {}
  },
  {
   "cell_type": "code",
   "execution_count": 4,
   "source": [
    "texts = []\r\n",
    "dois = []\r\n",
    "lem = WordNetLemmatizer()"
   ],
   "outputs": [],
   "metadata": {}
  },
  {
   "cell_type": "code",
   "execution_count": 5,
   "source": [
    "for ff in files:\r\n",
    "    f = data_folder + ff\r\n",
    "    fid = open(f,'r',encoding=\"utf8\")\r\n",
    "    data = readris(fid)\r\n",
    "\r\n",
    "    for i,entry in enumerate(data):\r\n",
    "    \r\n",
    "        try:\r\n",
    "            title = entry['title']\r\n",
    "            abstract = entry['abstract']\r\n",
    "            doi = entry['doi']\r\n",
    "            dois += [doi]\r\n",
    "            text = title + ' ' + abstract\r\n",
    "            text = gensim.utils.simple_preprocess(text)\r\n",
    "            text = [word for word in text if word not in my_stopwords]\r\n",
    "            for i,t in enumerate(text):\r\n",
    "                text[i] = lem.lemmatize(t)\r\n",
    "            texts += [text]\r\n",
    "\r\n",
    "        except:\r\n",
    "            pass\r\n",
    "\r\n"
   ],
   "outputs": [],
   "metadata": {}
  },
  {
   "cell_type": "code",
   "execution_count": null,
   "source": [
    "dictionary = gensim.corpora.Dictionary(texts)\r\n",
    "dictionary.filter_extremes(no_below=15, no_above=0.5, keep_n=100000)\r\n",
    "bow_corpus = [dictionary.doc2bow(doc) for doc in texts]\r\n",
    "\r\n",
    "tfidf = models.TfidfModel(bow_corpus)\r\n",
    "corpus_tfidf = tfidf[bow_corpus]\r\n",
    "\r\n",
    "lda_model = gensim.models.LdaMulticore(bow_corpus, num_topics=20, id2word=dictionary, passes=4, workers=4)\r\n",
    "for idx, topic in lda_model.print_topics(-1):\r\n",
    "    print('Topic: {} \\nWords: {}'.format(idx, topic))"
   ],
   "outputs": [],
   "metadata": {}
  },
  {
   "cell_type": "code",
   "execution_count": null,
   "source": [
    "for index, score in sorted(lda_model[bow_corpus[430]], key=lambda tup: -1*tup[1]):\r\n",
    "    print(\"\\nScore: {}\\t \\nTopic ({}): {}\".format(score, index, lda_model.print_topic(index, 10)))"
   ],
   "outputs": [],
   "metadata": {}
  },
  {
   "cell_type": "code",
   "execution_count": null,
   "source": [
    "new_doc = 'Piriri pororó'\r\n",
    "\r\n",
    "bow_vector = dictionary.doc2bow(preprocess(new_doc))\r\n",
    "for index, score in sorted(lda_model[bow_vector], key=lambda tup: -1*tup[1]):\r\n",
    "    print(\"Score: {}\\t Topic: {}\".format(score, lda_model.print_topic(index, 5)))"
   ],
   "outputs": [],
   "metadata": {}
  }
 ],
 "metadata": {
  "orig_nbformat": 4,
  "language_info": {
   "name": "python",
   "version": "3.8.5",
   "mimetype": "text/x-python",
   "codemirror_mode": {
    "name": "ipython",
    "version": 3
   },
   "pygments_lexer": "ipython3",
   "nbconvert_exporter": "python",
   "file_extension": ".py"
  },
  "kernelspec": {
   "name": "python3",
   "display_name": "Python 3.8.5 64-bit ('base': conda)"
  },
  "interpreter": {
   "hash": "07efdcd4b820c98a756949507a4d29d7862823915ec7477944641bea022f4f62"
  }
 },
 "nbformat": 4,
 "nbformat_minor": 2
}